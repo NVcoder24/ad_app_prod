{
 "cells": [
  {
   "cell_type": "code",
   "execution_count": 1,
   "metadata": {},
   "outputs": [],
   "source": [
    "# ПЕРЕД ПУСКОМ НУЖНО СНЕСТИ БД!\n",
    "\n",
    "CLIENTS_AMOUNT = 200\n",
    "ADVERTISERS_AMOUNT = 20\n",
    "MAX_ADS_PER_ADVERTISER = 5\n",
    "DAYS = 10\n",
    "\n",
    "PROTO = \"http\"\n",
    "BASE_URL = \"127.0.0.1:8080\"\n",
    "NAME = \"Main API\""
   ]
  },
  {
   "cell_type": "code",
   "execution_count": 2,
   "metadata": {},
   "outputs": [],
   "source": [
    "import requests\n",
    "from utils import *\n",
    "import time\n",
    "import random\n",
    "from tqdm import tqdm"
   ]
  },
  {
   "cell_type": "code",
   "execution_count": 3,
   "metadata": {},
   "outputs": [
    {
     "name": "stdout",
     "output_type": "stream",
     "text": [
      "data prepared\n",
      "loaded clients\n",
      "loaded advertisers\n"
     ]
    },
    {
     "name": "stderr",
     "output_type": "stream",
     "text": [
      "100%|██████████| 4000/4000 [00:46<00:00, 86.64it/s]\n"
     ]
    },
    {
     "name": "stdout",
     "output_type": "stream",
     "text": [
      "loaded ml scores\n",
      "loaded campaigns\n",
      "data loaded (47398ms)\n"
     ]
    }
   ],
   "source": [
    "# Загрузить данные\n",
    "\n",
    "locations = [\n",
    "    \"Moscow\",\n",
    "    \"Samara\",\n",
    "    \"Kazan\",\n",
    "    \"St.Peterburg\",\n",
    "    \"Syzran\",\n",
    "    \"Irkutsk\",\n",
    "    \"Tumen\"\n",
    "]\n",
    "\n",
    "cl_genders = [\n",
    "    \"MALE\",\n",
    "    \"FEMALE\"\n",
    "]\n",
    "\n",
    "clients = [\n",
    "    {\n",
    "        \"client_id\": get_random_uuid(),\n",
    "        \"login\": f\"client_{i+1}\",\n",
    "        \"age\": random.randint(5, 60),\n",
    "        \"location\": random.choice(locations),\n",
    "        \"gender\": random.choice(cl_genders)\n",
    "    }\n",
    "    for i in range(CLIENTS_AMOUNT)\n",
    "]\n",
    "\n",
    "advertisers = [\n",
    "    {\n",
    "        \"advertiser_id\": get_random_uuid(),\n",
    "        \"name\": f\"advertiser_{i+1}\"\n",
    "    }\n",
    "    for i in range(ADVERTISERS_AMOUNT)\n",
    "]\n",
    "\n",
    "ml_scores = [\n",
    "\n",
    "]\n",
    "\n",
    "for i in clients:\n",
    "    for j in advertisers:\n",
    "        ml_scores.append(\n",
    "            {\n",
    "                \"client_id\": i[\"client_id\"],\n",
    "                \"advertiser_id\": j[\"advertiser_id\"],\n",
    "                \"score\": random.randint(0, 100000)\n",
    "            }\n",
    "        )\n",
    "\n",
    "campaigns = {}\n",
    "\n",
    "for i in advertisers:\n",
    "    campaigns[i['advertiser_id']] = []\n",
    "    for j in range(random.randint(1, MAX_ADS_PER_ADVERTISER)):\n",
    "        start_date = random.randint(0, DAYS)\n",
    "        end_date = start_date + random.randint(0, DAYS - start_date)\n",
    "        impressions_limit = random.randint(0, CLIENTS_AMOUNT)\n",
    "        clicks_limit = int(impressions_limit * random.randint(50, 100) / 100) # от 50 до 100 % показов\n",
    "        impressions_cost = random.randint(100, 1000) / 100 # от рубля до 10 рублей\n",
    "        clicks_cost = int(impressions_cost * random.randint(150, 200) / 100) # от 150 до 200 % цены показа\n",
    "        targeting = {\n",
    "\n",
    "        }\n",
    "        t_gender = random.choice([\"MALE\", \"FEMALE\", \"ALL\"])\n",
    "        t_age_from = random.randint(0, 20)\n",
    "        t_age_to = t_age_from + random.randint(0, 40)\n",
    "        t_location = random.choice(locations)\n",
    "        if random.randint(0, 100) > 70: targeting[\"gender\"] = t_gender\n",
    "        if random.randint(0, 100) > 70: targeting[\"age_from\"] = t_age_from\n",
    "        if random.randint(0, 100) > 70: targeting[\"age_to\"] = t_age_to\n",
    "        if random.randint(0, 100) > 70: targeting[\"location\"] = t_location\n",
    "        ad = {\n",
    "            \"impressions_limit\": impressions_limit,\n",
    "            \"clicks_limit\": clicks_limit,\n",
    "            \"cost_per_impression\": impressions_cost,\n",
    "            \"cost_per_click\": clicks_cost,\n",
    "            \"ad_title\": \"AD\",\n",
    "            \"ad_text\": \"AD\",\n",
    "            \"start_date\": start_date,\n",
    "            \"end_date\": end_date,\n",
    "            \"targeting\": targeting\n",
    "        }\n",
    "\n",
    "        campaigns[i['advertiser_id']].append(ad)\n",
    "\n",
    "print(\"data prepared\")\n",
    "\n",
    "start_time = time.time() \n",
    "requests.post(f\"{PROTO}://{BASE_URL}/clients/bulk\", json=clients)\n",
    "print(\"loaded clients\")\n",
    "requests.post(f\"{PROTO}://{BASE_URL}/advertisers/bulk\", json=advertisers)\n",
    "print(\"loaded advertisers\")\n",
    "\n",
    "for i in tqdm(range(len(ml_scores))):\n",
    "    requests.post(f\"{PROTO}://{BASE_URL}/ml-scores\", json=ml_scores[i])\n",
    "\n",
    "print(\"loaded ml scores\")\n",
    "for i in campaigns:\n",
    "    for j in campaigns[i]:\n",
    "        requests.post(f\"{PROTO}://{BASE_URL}/advertisers/{i}/campaigns\", json=j)\n",
    "print(\"loaded campaigns\")\n",
    "end_time = time.time()\n",
    "\n",
    "print(f\"data loaded ({round((end_time - start_time) * 1000)}ms)\")"
   ]
  },
  {
   "cell_type": "code",
   "execution_count": 4,
   "metadata": {},
   "outputs": [
    {
     "name": "stdout",
     "output_type": "stream",
     "text": [
      "День 0\n"
     ]
    },
    {
     "name": "stderr",
     "output_type": "stream",
     "text": [
      "100%|██████████| 554/554 [00:09<00:00, 60.61it/s]\n"
     ]
    },
    {
     "name": "stdout",
     "output_type": "stream",
     "text": [
      "День 1\n"
     ]
    },
    {
     "name": "stderr",
     "output_type": "stream",
     "text": [
      "100%|██████████| 573/573 [00:10<00:00, 55.83it/s]\n"
     ]
    },
    {
     "name": "stdout",
     "output_type": "stream",
     "text": [
      "День 2\n"
     ]
    },
    {
     "name": "stderr",
     "output_type": "stream",
     "text": [
      "100%|██████████| 313/313 [00:06<00:00, 47.89it/s]\n"
     ]
    },
    {
     "name": "stdout",
     "output_type": "stream",
     "text": [
      "День 3\n"
     ]
    },
    {
     "name": "stderr",
     "output_type": "stream",
     "text": [
      "100%|██████████| 973/973 [00:19<00:00, 49.59it/s]\n"
     ]
    },
    {
     "name": "stdout",
     "output_type": "stream",
     "text": [
      "День 4\n"
     ]
    },
    {
     "name": "stderr",
     "output_type": "stream",
     "text": [
      "100%|██████████| 323/323 [00:06<00:00, 47.41it/s]\n"
     ]
    },
    {
     "name": "stdout",
     "output_type": "stream",
     "text": [
      "День 5\n"
     ]
    },
    {
     "name": "stderr",
     "output_type": "stream",
     "text": [
      "100%|██████████| 817/817 [00:16<00:00, 48.59it/s]\n"
     ]
    },
    {
     "name": "stdout",
     "output_type": "stream",
     "text": [
      "День 6\n"
     ]
    },
    {
     "name": "stderr",
     "output_type": "stream",
     "text": [
      "100%|██████████| 361/361 [00:08<00:00, 42.36it/s]\n"
     ]
    },
    {
     "name": "stdout",
     "output_type": "stream",
     "text": [
      "День 7\n"
     ]
    },
    {
     "name": "stderr",
     "output_type": "stream",
     "text": [
      "100%|██████████| 259/259 [00:05<00:00, 44.65it/s]\n"
     ]
    },
    {
     "name": "stdout",
     "output_type": "stream",
     "text": [
      "День 8\n"
     ]
    },
    {
     "name": "stderr",
     "output_type": "stream",
     "text": [
      "100%|██████████| 491/491 [00:10<00:00, 45.57it/s]\n"
     ]
    },
    {
     "name": "stdout",
     "output_type": "stream",
     "text": [
      "День 9\n"
     ]
    },
    {
     "name": "stderr",
     "output_type": "stream",
     "text": [
      "100%|██████████| 404/404 [00:09<00:00, 44.55it/s]\n"
     ]
    }
   ],
   "source": [
    "# Симуляция активности\n",
    "from functools import cache\n",
    "\n",
    "@cache\n",
    "def get_relative_score(client, adv_id):\n",
    "    max_ = 0\n",
    "    min_ = 1000000\n",
    "    adv_score = 0\n",
    "    for i in ml_scores:\n",
    "        if i[\"client_id\"] == client:\n",
    "            if i[\"score\"] > max_: max_ = i[\"score\"]\n",
    "            if i[\"score\"] < min_: min_ = i[\"score\"]\n",
    "            if i[\"advertiser_id\"] == adv_id: adv_score = i[\"score\"]\n",
    "    try:\n",
    "        return (adv_score - min_) / (max_ - min_)\n",
    "    except Exception as e:\n",
    "        return 0\n",
    "\n",
    "impressions = {}\n",
    "clicks = {}\n",
    "\n",
    "scores_sum = 0\n",
    "all_imprs = 0\n",
    "all_hits = 0\n",
    "fails = 0\n",
    "\n",
    "for i in clients:\n",
    "    impressions[i['client_id']] = [ [] for _ in range(DAYS) ]\n",
    "    clicks[i['client_id']] = [ [] for _ in range(DAYS) ]\n",
    "\n",
    "for date in range(DAYS):\n",
    "    print(f\"День {date}\")\n",
    "    requests.post(f\"{PROTO}://{BASE_URL}/time/advance\", json={\"current_date\": date})\n",
    "\n",
    "    views_today = random.randint(0, CLIENTS_AMOUNT * MAX_ADS_PER_ADVERTISER)\n",
    "\n",
    "    all_hits += views_today\n",
    "\n",
    "    for i in tqdm(range(views_today)):\n",
    "        cl_id = random.choice(clients)['client_id']\n",
    "\n",
    "        adr = requests.get(f\"{PROTO}://{BASE_URL}/ads\", params={\"client_id\": cl_id})\n",
    "        ad = adr.json()\n",
    "        try:\n",
    "            ad[\"message\"]\n",
    "            fails += 1\n",
    "        except Exception as e:\n",
    "            ad_id = ad[\"ad_id\"]\n",
    "            adv_id = ad[\"advertiser_id\"]\n",
    "\n",
    "            impressions[cl_id][date].append(ad_id)\n",
    "            \n",
    "            r_score = get_relative_score(cl_id, adv_id)\n",
    "            scores_sum += r_score\n",
    "            all_imprs += 1\n",
    "\n",
    "            if random.uniform(0.0,1.0) < r_score:\n",
    "                requests.post(f\"{PROTO}://{BASE_URL}/ads/{ad_id}/click\", json={\"client_id\": cl_id})\n",
    "                clicks[cl_id][date].append(ad_id)"
   ]
  },
  {
   "cell_type": "code",
   "execution_count": 5,
   "metadata": {},
   "outputs": [
    {
     "name": "stdout",
     "output_type": "stream",
     "text": [
      "Не удалось найти рекламу %: 11.069455406471981\n",
      "Средняя релевантность %: 54.566053733039645\n",
      "Конверсия (не статистика) %: 55.60239627246505\n"
     ]
    }
   ],
   "source": [
    "allclicks = sum([ sum( len(j) for j in clicks[i] ) for i in clicks ])\n",
    "\n",
    "print(\"Не удалось найти рекламу %:\", fails / all_hits * 100)\n",
    "print(\"Средняя релевантность %:\", scores_sum / all_imprs * 100)\n",
    "print(\"Конверсия (не статистика) %:\", allclicks / all_imprs * 100)"
   ]
  },
  {
   "cell_type": "code",
   "execution_count": 6,
   "metadata": {},
   "outputs": [
    {
     "name": "stdout",
     "output_type": "stream",
     "text": [
      "{'impressions_count': 112, 'clicks_count': 66, 'conversion': 58.92857142857143, 'spent_impressions': 666.93, 'spent_clicks': 603.0, 'spent_total': 1269.9299999999998}\n"
     ]
    },
    {
     "name": "stdout",
     "output_type": "stream",
     "text": [
      "{'impressions_count': 173, 'clicks_count': 120, 'conversion': 69.36416184971098, 'spent_impressions': 1322.7699999999982, 'spent_clicks': 1508.0, 'spent_total': 2830.769999999998}\n",
      "{'impressions_count': 226, 'clicks_count': 149, 'conversion': 65.929203539823, 'spent_impressions': 1612.6100000000026, 'spent_clicks': 1747.0, 'spent_total': 3359.6100000000024}\n",
      "{'impressions_count': 167, 'clicks_count': 100, 'conversion': 59.88023952095808, 'spent_impressions': 1569.8000000000036, 'spent_clicks': 1700.0, 'spent_total': 3269.800000000004}\n",
      "{'impressions_count': 0, 'clicks_count': 0, 'conversion': 0, 'spent_impressions': 0.0, 'spent_clicks': 0.0, 'spent_total': 0.0}\n",
      "{'impressions_count': 0, 'clicks_count': 0, 'conversion': 0, 'spent_impressions': 0.0, 'spent_clicks': 0.0, 'spent_total': 0.0}\n",
      "{'impressions_count': 165, 'clicks_count': 117, 'conversion': 70.9090909090909, 'spent_impressions': 1275.5799999999992, 'spent_clicks': 1377.0, 'spent_total': 2652.579999999999}\n",
      "{'impressions_count': 143, 'clicks_count': 82, 'conversion': 57.34265734265735, 'spent_impressions': 1367.7999999999997, 'spent_clicks': 1244.0, 'spent_total': 2611.7999999999997}\n",
      "{'impressions_count': 89, 'clicks_count': 66, 'conversion': 74.15730337078652, 'spent_impressions': 504.60000000000014, 'spent_clicks': 591.0, 'spent_total': 1095.6000000000001}\n",
      "{'impressions_count': 14, 'clicks_count': 8, 'conversion': 57.14285714285714, 'spent_impressions': 72.1, 'spent_clicks': 72.0, 'spent_total': 144.1}\n",
      "{'impressions_count': 67, 'clicks_count': 44, 'conversion': 65.67164179104478, 'spent_impressions': 486.65000000000055, 'spent_clicks': 488.0, 'spent_total': 974.6500000000005}\n",
      "{'impressions_count': 436, 'clicks_count': 269, 'conversion': 61.69724770642202, 'spent_impressions': 1042.4600000000003, 'spent_clicks': 898.0, 'spent_total': 1940.4600000000003}\n",
      "{'impressions_count': 310, 'clicks_count': 194, 'conversion': 62.58064516129033, 'spent_impressions': 2073.949999999997, 'spent_clicks': 2150.0, 'spent_total': 4223.949999999997}\n",
      "{'impressions_count': 8, 'clicks_count': 7, 'conversion': 87.5, 'spent_impressions': 60.800000000000004, 'spent_clicks': 105.0, 'spent_total': 165.8}\n",
      "{'impressions_count': 255, 'clicks_count': 191, 'conversion': 74.90196078431373, 'spent_impressions': 1286.1099999999997, 'spent_clicks': 1574.0, 'spent_total': 2860.1099999999997}\n",
      "{'impressions_count': 237, 'clicks_count': 147, 'conversion': 62.0253164556962, 'spent_impressions': 1374.5099999999995, 'spent_clicks': 1452.0, 'spent_total': 2826.5099999999993}\n",
      "{'impressions_count': 84, 'clicks_count': 64, 'conversion': 76.19047619047619, 'spent_impressions': 539.2799999999999, 'spent_clicks': 784.0, 'spent_total': 1323.2799999999997}\n",
      "{'impressions_count': 272, 'clicks_count': 198, 'conversion': 72.79411764705883, 'spent_impressions': 1403.2599999999993, 'spent_clicks': 1553.0, 'spent_total': 2956.2599999999993}\n",
      "{'impressions_count': 112, 'clicks_count': 80, 'conversion': 71.42857142857143, 'spent_impressions': 489.59999999999985, 'spent_clicks': 632.0, 'spent_total': 1121.6}\n",
      "{'impressions_count': 0, 'clicks_count': 0, 'conversion': 0, 'spent_impressions': 0.0, 'spent_clicks': 0.0, 'spent_total': 0.0}\n",
      "Всего просмотров (статистика):  4507\n",
      "Всего кликов (статистика):  1902\n",
      "Конверсия (статистика, глобально) 66.27177700348432\n",
      "Всего заработанно 35626.80999999999\n"
     ]
    }
   ],
   "source": [
    "allimpr = 0\n",
    "allclk = 0\n",
    "all_spent = 0\n",
    "for i in advertisers:\n",
    "    d = requests.get(f\"{PROTO}://{BASE_URL}/stats/advertisers/{i['advertiser_id']}/campaigns\").json()\n",
    "    print(d)\n",
    "    allimpr += d[\"impressions_count\"]\n",
    "    allclk += d[\"clicks_count\"]\n",
    "    all_spent += d[\"spent_total\"]\n",
    "\n",
    "print(\"Всего просмотров (статистика): \", all_imprs)\n",
    "print(\"Всего кликов (статистика): \", allclk)\n",
    "print(\"Конверсия (статистика, глобально)\", allclk / allimpr * 100)\n",
    "print(\"Всего заработанно\", all_spent)"
   ]
  }
 ],
 "metadata": {
  "kernelspec": {
   "display_name": "Python 3",
   "language": "python",
   "name": "python3"
  },
  "language_info": {
   "codemirror_mode": {
    "name": "ipython",
    "version": 3
   },
   "file_extension": ".py",
   "mimetype": "text/x-python",
   "name": "python",
   "nbconvert_exporter": "python",
   "pygments_lexer": "ipython3",
   "version": "3.12.5"
  }
 },
 "nbformat": 4,
 "nbformat_minor": 2
}
